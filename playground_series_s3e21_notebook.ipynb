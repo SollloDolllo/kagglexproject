{
 "cells": [
  {
   "cell_type": "markdown",
   "id": "145dc997",
   "metadata": {},
   "source": [
    "# Introduction"
   ]
  },
  {
   "cell_type": "markdown",
   "id": "7ed09da0",
   "metadata": {},
   "source": [
    "What is Root Mean Square Error (RMSE)? According to Wikipedia:\n",
    "\n",
    "\"The root-mean-square deviation (RMSD) or root-mean-square error (RMSE) is a frequently used measure of the differences between values (sample or population values) predicted by a model or an estimator and the values observed.\" https://en.wikipedia.org/wiki/Root-mean-square_deviation\n",
    "\n",
    "In laymans terms, this means RMSE is used to determine how accurate predicted values are in comparison to the actual values recorded. A RMSE value of 0 means the predicted and observed values are perfectly aligned, and a higher RMSE value means less alignment, and ultimately, less accuracy in the model.\n",
    "\n",
    "So, ideally, we want an unlikely score..."
   ]
  },
  {
   "cell_type": "markdown",
   "id": "f1a0e251",
   "metadata": {},
   "source": [
    "<center>\n",
    "<img \n",
    "src=\"https://d14d5nk8lue86f.cloudfront.net/s3fs-public/2021-12/Risk%20Factors%20Still%20Matter%20for%20Patients%20With%20Zero%20CAC%20Score%20MESA.jpg\" \n",
    "width=1300 height=700 />\n",
    "</center>"
   ]
  },
  {
   "cell_type": "markdown",
   "id": "352dd432",
   "metadata": {},
   "source": [
    "Not too hard, right?"
   ]
  },
  {
   "cell_type": "markdown",
   "id": "74ae8f06",
   "metadata": {},
   "source": [
    "# The Data"
   ]
  },
  {
   "cell_type": "code",
   "execution_count": 80,
   "id": "2d0ad16b",
   "metadata": {},
   "outputs": [],
   "source": [
    "import numpy as np \n",
    "import pandas as pd\n",
    "import seaborn as sns\n",
    "import random\n",
    "from sklearn.metrics import mean_squared_error, mean_absolute_error\n",
    "from sklearn.linear_model import SGDOneClassSVM\n",
    "from sklearn.ensemble import IsolationForest\n",
    "from sklearn.neighbors import LocalOutlierFactor\n",
    "import matplotlib.pyplot as plt\n",
    "data = pd.read_csv('sample_submission.csv')\n",
    "test = pd.read_csv('test.csv')\n",
    "train = pd.read_csv('train.csv')"
   ]
  },
  {
   "cell_type": "code",
   "execution_count": 53,
   "id": "ae8828af",
   "metadata": {},
   "outputs": [
    {
     "data": {
      "text/html": [
       "<div>\n",
       "<style scoped>\n",
       "    .dataframe tbody tr th:only-of-type {\n",
       "        vertical-align: middle;\n",
       "    }\n",
       "\n",
       "    .dataframe tbody tr th {\n",
       "        vertical-align: top;\n",
       "    }\n",
       "\n",
       "    .dataframe thead th {\n",
       "        text-align: right;\n",
       "    }\n",
       "</style>\n",
       "<table border=\"1\" class=\"dataframe\">\n",
       "  <thead>\n",
       "    <tr style=\"text-align: right;\">\n",
       "      <th></th>\n",
       "      <th>id</th>\n",
       "      <th>target</th>\n",
       "      <th>O2_1</th>\n",
       "      <th>O2_2</th>\n",
       "      <th>O2_3</th>\n",
       "      <th>O2_4</th>\n",
       "      <th>O2_5</th>\n",
       "      <th>O2_6</th>\n",
       "      <th>O2_7</th>\n",
       "      <th>NH4_1</th>\n",
       "      <th>...</th>\n",
       "      <th>NO3_5</th>\n",
       "      <th>NO3_6</th>\n",
       "      <th>NO3_7</th>\n",
       "      <th>BOD5_1</th>\n",
       "      <th>BOD5_2</th>\n",
       "      <th>BOD5_3</th>\n",
       "      <th>BOD5_4</th>\n",
       "      <th>BOD5_5</th>\n",
       "      <th>BOD5_6</th>\n",
       "      <th>BOD5_7</th>\n",
       "    </tr>\n",
       "  </thead>\n",
       "  <tbody>\n",
       "    <tr>\n",
       "      <th>0</th>\n",
       "      <td>0</td>\n",
       "      <td>8.59</td>\n",
       "      <td>7.500</td>\n",
       "      <td>9.00</td>\n",
       "      <td>0</td>\n",
       "      <td>0</td>\n",
       "      <td>0</td>\n",
       "      <td>0</td>\n",
       "      <td>0</td>\n",
       "      <td>0</td>\n",
       "      <td>...</td>\n",
       "      <td>0</td>\n",
       "      <td>1.730</td>\n",
       "      <td>0</td>\n",
       "      <td>0</td>\n",
       "      <td>0</td>\n",
       "      <td>0</td>\n",
       "      <td>0</td>\n",
       "      <td>16.645</td>\n",
       "      <td>0</td>\n",
       "      <td>0</td>\n",
       "    </tr>\n",
       "    <tr>\n",
       "      <th>1</th>\n",
       "      <td>1</td>\n",
       "      <td>9.10</td>\n",
       "      <td>13.533</td>\n",
       "      <td>40.90</td>\n",
       "      <td>0</td>\n",
       "      <td>0</td>\n",
       "      <td>0</td>\n",
       "      <td>0</td>\n",
       "      <td>0</td>\n",
       "      <td>0</td>\n",
       "      <td>...</td>\n",
       "      <td>0</td>\n",
       "      <td>9.530</td>\n",
       "      <td>0</td>\n",
       "      <td>0</td>\n",
       "      <td>0</td>\n",
       "      <td>0</td>\n",
       "      <td>0</td>\n",
       "      <td>5.725</td>\n",
       "      <td>0</td>\n",
       "      <td>0</td>\n",
       "    </tr>\n",
       "    <tr>\n",
       "      <th>2</th>\n",
       "      <td>2</td>\n",
       "      <td>8.21</td>\n",
       "      <td>3.710</td>\n",
       "      <td>5.42</td>\n",
       "      <td>0</td>\n",
       "      <td>0</td>\n",
       "      <td>0</td>\n",
       "      <td>0</td>\n",
       "      <td>0</td>\n",
       "      <td>0</td>\n",
       "      <td>...</td>\n",
       "      <td>0</td>\n",
       "      <td>3.025</td>\n",
       "      <td>0</td>\n",
       "      <td>0</td>\n",
       "      <td>0</td>\n",
       "      <td>0</td>\n",
       "      <td>0</td>\n",
       "      <td>6.750</td>\n",
       "      <td>0</td>\n",
       "      <td>0</td>\n",
       "    </tr>\n",
       "    <tr>\n",
       "      <th>3</th>\n",
       "      <td>3</td>\n",
       "      <td>8.39</td>\n",
       "      <td>8.700</td>\n",
       "      <td>8.10</td>\n",
       "      <td>0</td>\n",
       "      <td>0</td>\n",
       "      <td>0</td>\n",
       "      <td>0</td>\n",
       "      <td>0</td>\n",
       "      <td>0</td>\n",
       "      <td>...</td>\n",
       "      <td>0</td>\n",
       "      <td>2.070</td>\n",
       "      <td>0</td>\n",
       "      <td>0</td>\n",
       "      <td>0</td>\n",
       "      <td>0</td>\n",
       "      <td>0</td>\n",
       "      <td>8.670</td>\n",
       "      <td>0</td>\n",
       "      <td>0</td>\n",
       "    </tr>\n",
       "    <tr>\n",
       "      <th>4</th>\n",
       "      <td>4</td>\n",
       "      <td>8.07</td>\n",
       "      <td>8.050</td>\n",
       "      <td>8.65</td>\n",
       "      <td>0</td>\n",
       "      <td>0</td>\n",
       "      <td>0</td>\n",
       "      <td>0</td>\n",
       "      <td>0</td>\n",
       "      <td>0</td>\n",
       "      <td>...</td>\n",
       "      <td>0</td>\n",
       "      <td>1.730</td>\n",
       "      <td>0</td>\n",
       "      <td>0</td>\n",
       "      <td>0</td>\n",
       "      <td>0</td>\n",
       "      <td>0</td>\n",
       "      <td>8.400</td>\n",
       "      <td>0</td>\n",
       "      <td>0</td>\n",
       "    </tr>\n",
       "  </tbody>\n",
       "</table>\n",
       "<p>5 rows × 37 columns</p>\n",
       "</div>"
      ],
      "text/plain": [
       "   id  target    O2_1   O2_2  O2_3  O2_4  O2_5  O2_6  O2_7  NH4_1  ...  NO3_5  \\\n",
       "0   0    8.59   7.500   9.00     0     0     0     0     0      0  ...      0   \n",
       "1   1    9.10  13.533  40.90     0     0     0     0     0      0  ...      0   \n",
       "2   2    8.21   3.710   5.42     0     0     0     0     0      0  ...      0   \n",
       "3   3    8.39   8.700   8.10     0     0     0     0     0      0  ...      0   \n",
       "4   4    8.07   8.050   8.65     0     0     0     0     0      0  ...      0   \n",
       "\n",
       "   NO3_6  NO3_7  BOD5_1  BOD5_2  BOD5_3  BOD5_4  BOD5_5  BOD5_6  BOD5_7  \n",
       "0  1.730      0       0       0       0       0  16.645       0       0  \n",
       "1  9.530      0       0       0       0       0   5.725       0       0  \n",
       "2  3.025      0       0       0       0       0   6.750       0       0  \n",
       "3  2.070      0       0       0       0       0   8.670       0       0  \n",
       "4  1.730      0       0       0       0       0   8.400       0       0  \n",
       "\n",
       "[5 rows x 37 columns]"
      ]
     },
     "execution_count": 53,
     "metadata": {},
     "output_type": "execute_result"
    }
   ],
   "source": [
    "# creating a copy of the sample submission\n",
    "copy = data.copy()\n",
    "# after reviewing other submissions, there are a limited number of columns that actually impact the accuracy of the model\n",
    "#https://www.kaggle.com/code/vasudevak/we-messed-up-while-trying-to-avoid-data-leakage\n",
    "#https://www.kaggle.com/code/arunklenin/in-depth-analysis-five-anomaly-detection-methods\n",
    "bad_cols = ['id', 'O2_1', 'O2_2', 'BOD5_5','NO3_6', 'target']\n",
    "for col in copy.columns:\n",
    "    if col not in bad_cols:\n",
    "        copy[col] = 0\n",
    "copy.head()"
   ]
  },
  {
   "cell_type": "code",
   "execution_count": 39,
   "id": "4e4edae7",
   "metadata": {},
   "outputs": [
    {
     "data": {
      "image/png": "[encoded data removed]",
      "text/plain": [
       "<Figure size 432x288 with 1 Axes>"
      ]
     },
     "metadata": {
      "needs_background": "light"
     },
     "output_type": "display_data"
    }
   ],
   "source": [
    "#let's plot these values\n",
    "plt.xlabel('id')\n",
    "plt.ylabel('target')\n",
    "sns.lineplot(data=copy, x='id', y='target')\n",
    "plt.show()"
   ]
  },
  {
   "cell_type": "code",
   "execution_count": 47,
   "id": "0870b475",
   "metadata": {},
   "outputs": [
    {
     "name": "stderr",
     "output_type": "stream",
     "text": [
      "/Users/sola/opt/anaconda3/lib/python3.9/site-packages/sklearn/base.py:450: UserWarning: X does not have valid feature names, but IsolationForest was fitted with feature names\n",
      "  warnings.warn(\n"
     ]
    }
   ],
   "source": [
    "#there seem to be a couple of outliers, so let's try removing them. Following the method outlined in https://www.kaggle.com/code/achusanjeev/best-hyperparameter-tuning-for-this-dataset:\n",
    "svm = SGDOneClassSVM(nu=0.1).fit(copy.drop(['id'],axis=1))\n",
    "copy['svm_anomaly'] = svm.predict(copy.drop(['id'],axis=1))\n",
    "len(np.where(copy['svm_anomaly']==-1)[0])\n",
    "If = IsolationForest(contamination=0.005).fit(copy.drop(['id','svm_anomaly'],axis=1))\n",
    "copy['if_anomaly'] = If.predict(copy.drop(['id','svm_anomaly'],axis=1))\n",
    "len(np.where(copy['if_anomaly']==-1)[0])\n",
    "lof = LocalOutlierFactor(contamination=0.005)\n",
    "copy['lof_anomaly'] = lof.fit_predict(copy.drop(['id','svm_anomaly','if_anomaly'],axis=1))\n",
    "len(np.where(copy['lof_anomaly']==-1)[0])\n",
    "lowest_quality_labels = [3366, 2365,  465, 1776, 1295,  800, 2306,  402, 1215, 1737, 3212,  529,  482, 2068, 1163, 1408, 2246, 1681,  162]"
   ]
  },
  {
   "cell_type": "code",
   "execution_count": 49,
   "id": "be96ee4d",
   "metadata": {},
   "outputs": [
    {
     "data": {
      "text/plain": [
       "array([ 135,  162,  282,  316,  320,  336,  351,  365,  381,  402,  433,\n",
       "        451,  465,  482,  529,  541,  608,  613,  692,  729,  749,  797,\n",
       "        800,  807,  866,  879,  948,  967, 1146, 1163, 1168, 1178, 1215,\n",
       "       1248, 1295, 1408, 1593, 1608, 1621, 1625, 1662, 1681, 1707, 1737,\n",
       "       1776, 1803, 1828, 1866, 1876, 2006, 2068, 2100, 2119, 2246, 2306,\n",
       "       2365, 2477, 2494, 2513, 2548, 2629, 2687, 2768, 2867, 3076, 3125,\n",
       "       3212, 3305, 3318, 3346, 3366, 3408, 3440, 3464])"
      ]
     },
     "execution_count": 49,
     "metadata": {},
     "output_type": "execute_result"
    }
   ],
   "source": [
    "rows_to_remove = np.union1d(np.union1d(np.union1d(np.where(copy['svm_anomaly']==-1),np.where(copy['if_anomaly']==-1)),np.where(copy['lof_anomaly']==-1)),lowest_quality_labels)\n",
    "rows_to_remove"
   ]
  },
  {
   "cell_type": "code",
   "execution_count": 83,
   "id": "5bc71fe7",
   "metadata": {},
   "outputs": [],
   "source": [
    "data_dropped = copy.drop(index=rows_to_remove)\n",
    "data_clean = copy"
   ]
  },
  {
   "cell_type": "code",
   "execution_count": 73,
   "id": "ecc5b335",
   "metadata": {},
   "outputs": [
    {
     "data": {
      "image/png": "[encoded data removed]",
      "text/plain": [
       "<Figure size 432x288 with 1 Axes>"
      ]
     },
     "metadata": {
      "needs_background": "light"
     },
     "output_type": "display_data"
    }
   ],
   "source": [
    "plt.xlabel('id')\n",
    "plt.ylabel('target')\n",
    "sns.lineplot(data=data_dropped, x='id', y='target')\n",
    "plt.show()"
   ]
  },
  {
   "cell_type": "code",
   "execution_count": null,
   "id": "b79fd5f0",
   "metadata": {},
   "outputs": [],
   "source": [
    "#This looks like a much more evenly distributed chart :)"
   ]
  },
  {
   "cell_type": "code",
   "execution_count": 78,
   "id": "91ae82fe",
   "metadata": {},
   "outputs": [
    {
     "data": {
      "image/png": "[encoded data removed]",
      "text/plain": [
       "<Figure size 432x288 with 1 Axes>"
      ]
     },
     "metadata": {
      "needs_background": "light"
     },
     "output_type": "display_data"
    }
   ],
   "source": [
    "plt.xlabel('id')\n",
    "plt.ylabel('target')\n",
    "sns.lineplot(data=data, x='id', y='target')\n",
    "plt.show()"
   ]
  },
  {
   "cell_type": "code",
   "execution_count": 74,
   "id": "7e44f827",
   "metadata": {},
   "outputs": [],
   "source": [
    "#This looks like a much more even distribution of values :)\n",
    "#but let's run a qucik rmse check to see how much better these values are:\n",
    "def rmse(predictions, targets):\n",
    "    return np.sqrt(np.mean((predictions-targets)**2))"
   ]
  },
  {
   "cell_type": "code",
   "execution_count": 84,
   "id": "e1a1cd15",
   "metadata": {},
   "outputs": [
    {
     "name": "stdout",
     "output_type": "stream",
     "text": [
      "RMSE Score without the identified outliers is BOD5_1     2.548126\n",
      "BOD5_2     2.069674\n",
      "BOD5_3     3.285012\n",
      "BOD5_4     3.837249\n",
      "BOD5_5     4.729734\n",
      "BOD5_6     2.109677\n",
      "BOD5_7     4.461106\n",
      "Id              NaN\n",
      "NH4_1      0.429346\n",
      "NH4_2      0.656482\n",
      "NH4_3      2.698428\n",
      "NH4_4      5.365664\n",
      "NH4_5     10.811939\n",
      "NH4_6      1.411784\n",
      "NH4_7      0.831603\n",
      "NO2_1      0.120363\n",
      "NO2_2      0.306745\n",
      "NO2_3      1.091871\n",
      "NO2_4      3.710805\n",
      "NO2_5      1.712904\n",
      "NO2_6      0.311741\n",
      "NO2_7      0.600330\n",
      "NO3_1      3.848085\n",
      "NO3_2      3.750844\n",
      "NO3_3      4.571169\n",
      "NO3_4      9.141472\n",
      "NO3_5      9.562493\n",
      "NO3_6      5.370195\n",
      "NO3_7      7.262385\n",
      "O2_1       3.150227\n",
      "O2_2       7.948496\n",
      "O2_3       3.736563\n",
      "O2_4       3.633856\n",
      "O2_5       4.071126\n",
      "O2_6       8.524925\n",
      "O2_7       4.217357\n",
      "id              NaN\n",
      "target          NaN\n",
      "dtype: float64\n"
     ]
    },
    {
     "name": "stderr",
     "output_type": "stream",
     "text": [
      "/Users/sola/opt/anaconda3/lib/python3.9/site-packages/numpy/core/fromnumeric.py:3438: FutureWarning: In a future version, DataFrame.mean(axis=None) will return a scalar mean over the entire DataFrame. To retain the old behavior, use 'frame.mean(axis=0)' or just 'frame.mean()'\n",
      "  return mean(axis=axis, dtype=dtype, out=out, **kwargs)\n"
     ]
    }
   ],
   "source": [
    "print(f\"RMSE Score without the identified outliers is {rmse(test, data)}\")"
   ]
  },
  {
   "cell_type": "code",
   "execution_count": 85,
   "id": "cb0216a2",
   "metadata": {},
   "outputs": [
    {
     "name": "stdout",
     "output_type": "stream",
     "text": [
      "RMSE Score without the identified outliers is BOD5_1     5.555688\n",
      "BOD5_2     5.338054\n",
      "BOD5_3     4.865383\n",
      "BOD5_4     6.416272\n",
      "BOD5_5     4.729734\n",
      "BOD5_6     4.510116\n",
      "BOD5_7     6.511317\n",
      "Id              NaN\n",
      "NH4_1      0.545614\n",
      "NH4_2      0.595038\n",
      "NH4_3      2.890554\n",
      "NH4_4      5.831007\n",
      "NH4_5      8.753707\n",
      "NH4_6      1.609740\n",
      "NH4_7      1.148798\n",
      "NO2_1      0.140469\n",
      "NO2_2      0.250737\n",
      "NO2_3      1.115069\n",
      "NO2_4      3.987108\n",
      "NO2_5      1.727223\n",
      "NO2_6      0.343703\n",
      "NO2_7      0.625013\n",
      "NO3_1      4.256028\n",
      "NO3_2      4.593570\n",
      "NO3_3      4.793806\n",
      "NO3_4      8.636710\n",
      "NO3_5      8.125787\n",
      "NO3_6      5.370195\n",
      "NO3_7      8.368743\n",
      "O2_1       3.150227\n",
      "O2_2       7.948496\n",
      "O2_3      10.556765\n",
      "O2_4       9.072163\n",
      "O2_5       7.343050\n",
      "O2_6       9.714952\n",
      "O2_7       8.364019\n",
      "id              NaN\n",
      "target          NaN\n",
      "dtype: float64\n"
     ]
    },
    {
     "name": "stderr",
     "output_type": "stream",
     "text": [
      "/Users/sola/opt/anaconda3/lib/python3.9/site-packages/numpy/core/fromnumeric.py:3438: FutureWarning: In a future version, DataFrame.mean(axis=None) will return a scalar mean over the entire DataFrame. To retain the old behavior, use 'frame.mean(axis=0)' or just 'frame.mean()'\n",
      "  return mean(axis=axis, dtype=dtype, out=out, **kwargs)\n"
     ]
    }
   ],
   "source": [
    "print(f\"RMSE Score without the identified outliers is {rmse(test, data_clean)}\")"
   ]
  },
  {
   "cell_type": "code",
   "execution_count": 79,
   "id": "9c626ff8",
   "metadata": {},
   "outputs": [],
   "source": [
    "data_dropped.to_csv('submission.csv',index=False)"
   ]
  }
 ],
 "metadata": {
  "kernelspec": {
   "display_name": "Python 3 (ipykernel)",
   "language": "python",
   "name": "python3"
  },
  "language_info": {
   "codemirror_mode": {
    "name": "ipython",
    "version": 3
   },
   "file_extension": ".py",
   "mimetype": "text/x-python",
   "name": "python",
   "nbconvert_exporter": "python",
   "pygments_lexer": "ipython3",
   "version": "3.9.12"
  }
 },
 "nbformat": 4,
 "nbformat_minor": 5
}
